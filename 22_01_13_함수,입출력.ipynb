{
  "nbformat": 4,
  "nbformat_minor": 0,
  "metadata": {
    "colab": {
      "name": "22.01.13 함수,입출력.ipynb",
      "provenance": [],
      "collapsed_sections": [],
      "authorship_tag": "ABX9TyMaeBImtWxG3fA0TVDxVC+U"
    },
    "kernelspec": {
      "name": "python3",
      "display_name": "Python 3"
    },
    "language_info": {
      "name": "python"
    }
  },
  "cells": [
    {
      "cell_type": "markdown",
      "source": [
        "# 1.함수 정의"
      ],
      "metadata": {
        "id": "EuTNNKOr_oGS"
      }
    },
    {
      "cell_type": "code",
      "execution_count": null,
      "metadata": {
        "id": "cb3yc5Qb9eEl"
      },
      "outputs": [],
      "source": [
        "def cal(op,*args):\n",
        "  if op =='add':\n",
        "    result = 0        #변수 초기화를 위해서\n",
        "    for arg in args:      \n",
        "      result += arg \n",
        "윙\n",
        "  elif op == 'mul':\n",
        "    result =1         #변수 초기화\n",
        "    for arg in args:\n",
        "      result *= arg \n",
        "\n",
        "  else:\n",
        "    return 0\n",
        "\n",
        "  return result\n"
      ]
    },
    {
      "cell_type": "code",
      "source": [
        "result =cal('add',1,2,3,4,5)\n",
        "\n",
        "result"
      ],
      "metadata": {
        "colab": {
          "base_uri": "https://localhost:8080/"
        },
        "id": "OWdDS3YRAdOP",
        "outputId": "b57456bb-1614-4b16-c66e-642fbb87ec06"
      },
      "execution_count": null,
      "outputs": [
        {
          "output_type": "execute_result",
          "data": {
            "text/plain": [
              "15"
            ]
          },
          "metadata": {},
          "execution_count": 19
        }
      ]
    },
    {
      "cell_type": "code",
      "source": [
        "result =cal('mul',1,2,3,4,5)\n",
        "result"
      ],
      "metadata": {
        "colab": {
          "base_uri": "https://localhost:8080/"
        },
        "id": "Ffr78W7GAdfe",
        "outputId": "9467f761-eb37-4421-f252-0ebba90c39f2"
      },
      "execution_count": null,
      "outputs": [
        {
          "output_type": "execute_result",
          "data": {
            "text/plain": [
              "120"
            ]
          },
          "metadata": {},
          "execution_count": 20
        }
      ]
    },
    {
      "cell_type": "markdown",
      "source": [
        "## 키워드 *파라미터*"
      ],
      "metadata": {
        "id": "-Pooo_vkDVNN"
      }
    },
    {
      "cell_type": "code",
      "source": [
        "# **wargs :딕셔너리로 처리하기 위해서 (key word aruments로 관례적으로 사용된다 )\n",
        "\n",
        "def print2(**kwargs):\n",
        "  print(kwargs)"
      ],
      "metadata": {
        "id": "eAXNOl_mAdzX"
      },
      "execution_count": null,
      "outputs": []
    },
    {
      "cell_type": "code",
      "source": [
        "print2(a=1)"
      ],
      "metadata": {
        "colab": {
          "base_uri": "https://localhost:8080/"
        },
        "id": "RvpASqbGDz0G",
        "outputId": "6b278da1-a2b7-4781-e7dd-47b978b52e56"
      },
      "execution_count": null,
      "outputs": [
        {
          "output_type": "stream",
          "name": "stdout",
          "text": [
            "{'a': 1}\n"
          ]
        }
      ]
    },
    {
      "cell_type": "code",
      "source": [
        "print2(name='황정은',age=20)"
      ],
      "metadata": {
        "colab": {
          "base_uri": "https://localhost:8080/"
        },
        "id": "jufRwLB6D5e8",
        "outputId": "576dfb85-7089-4ffd-d129-805f1459d0c6"
      },
      "execution_count": null,
      "outputs": [
        {
          "output_type": "stream",
          "name": "stdout",
          "text": [
            "{'name': '황정은', 'age': 20}\n"
          ]
        }
      ]
    },
    {
      "cell_type": "markdown",
      "source": [
        "##결과 처리"
      ],
      "metadata": {
        "id": "0BA0OZikEC9W"
      }
    },
    {
      "cell_type": "code",
      "source": [
        "def add_mul(a,b):\n",
        "  return a+b,a*b"
      ],
      "metadata": {
        "id": "Th0V0kadD-lY"
      },
      "execution_count": null,
      "outputs": []
    },
    {
      "cell_type": "code",
      "source": [
        "result = add_mul(3,5)\n",
        "result                #return으로 2개의 값을 보내주면 result는 packing된결과를 받게 된다. "
      ],
      "metadata": {
        "colab": {
          "base_uri": "https://localhost:8080/"
        },
        "id": "dfugE-CFEM6_",
        "outputId": "53867114-bae8-42cc-95a6-4dbfc5a5b215"
      },
      "execution_count": null,
      "outputs": [
        {
          "output_type": "execute_result",
          "data": {
            "text/plain": [
              "(8, 15)"
            ]
          },
          "metadata": {},
          "execution_count": 27
        }
      ]
    },
    {
      "cell_type": "code",
      "source": [
        "rel1,rel2 = add_mul(3,5)    #unpacking해서 결과를 집어넣는 것도 가능하다. \n",
        "rel1"
      ],
      "metadata": {
        "colab": {
          "base_uri": "https://localhost:8080/"
        },
        "id": "kcgvvVL5EXdY",
        "outputId": "7bc558d5-aabb-4f9e-854b-d321b2b1ca2c"
      },
      "execution_count": null,
      "outputs": [
        {
          "output_type": "execute_result",
          "data": {
            "text/plain": [
              "8"
            ]
          },
          "metadata": {},
          "execution_count": 29
        }
      ]
    },
    {
      "cell_type": "markdown",
      "source": [
        "packing : return 값을 보낼 때 기본적으로 1개의 값만 보낼 수 있다.\n",
        "return 값을 보낼때 여러개의 값을 보낼때 1개로 묶에서 보낸다\n",
        "\n",
        "\n",
        "unpacking :packing 된걸 풀어내는 것을 unpacking 이라고 한다. \n",
        "rel1,rel2 = add_mul(3,5) \n"
      ],
      "metadata": {
        "id": "wX9FkCh8E86w"
      }
    },
    {
      "cell_type": "code",
      "source": [
        "rel2"
      ],
      "metadata": {
        "colab": {
          "base_uri": "https://localhost:8080/"
        },
        "id": "8hQfhnt3EpAI",
        "outputId": "ce20647f-7327-4675-a899-85a2752ca34c"
      },
      "execution_count": null,
      "outputs": [
        {
          "output_type": "execute_result",
          "data": {
            "text/plain": [
              "15"
            ]
          },
          "metadata": {},
          "execution_count": 30
        }
      ]
    },
    {
      "cell_type": "code",
      "source": [
        "def say_nick(nick):       #함수에서 parameter거 유효한지 아닌지/ 처리할건지 안할건지 확인할때  사용한다. \n",
        "  if nick == '바보':\n",
        "    return\n",
        "\n",
        "  print(f'그의 별명은 {nick}입니다.')"
      ],
      "metadata": {
        "id": "rRoxw_A2EwdR"
      },
      "execution_count": null,
      "outputs": []
    },
    {
      "cell_type": "code",
      "source": [
        "say_nick('__')"
      ],
      "metadata": {
        "colab": {
          "base_uri": "https://localhost:8080/"
        },
        "id": "xqzsaw62Fgp9",
        "outputId": "c07d2f00-0cbe-46cc-d691-f18f35e4f370"
      },
      "execution_count": null,
      "outputs": [
        {
          "output_type": "stream",
          "name": "stdout",
          "text": [
            "그의 별명은 __입니다.\n"
          ]
        }
      ]
    },
    {
      "cell_type": "markdown",
      "source": [
        "##기본값 설정"
      ],
      "metadata": {
        "id": "uWlQ_3SdF_2S"
      }
    },
    {
      "cell_type": "code",
      "source": [
        "def intro_me(name,age,sex):\n",
        "  print(f'나의 이름은{name}입니다.')\n",
        "  print(f'나의 나이는{age}입니다.')\n",
        "  print(f'나의 성별은{sex}입니다.')"
      ],
      "metadata": {
        "id": "isn7qpaqGRwC"
      },
      "execution_count": null,
      "outputs": []
    },
    {
      "cell_type": "code",
      "source": [
        "intro_me('황정은',24,'Woman')"
      ],
      "metadata": {
        "colab": {
          "base_uri": "https://localhost:8080/"
        },
        "id": "XRIzXh9vFrGR",
        "outputId": "79e15f8d-0ad6-44de-fc0b-16368083bc13"
      },
      "execution_count": null,
      "outputs": [
        {
          "output_type": "stream",
          "name": "stdout",
          "text": [
            "나의 이름은황정은입니다.\n",
            "나의 나이는24입니다.\n",
            "나의 성별은Woman입니다.\n"
          ]
        }
      ]
    },
    {
      "cell_type": "code",
      "source": [
        "#파라메터기본값 설정\n",
        "def intro_me(name,age,sex='woman'):\n",
        "  print(f'나의 이름은{name}입니다.')\n",
        "  print(f'나의 이름은{age}입니다.')\n",
        "  print(f'나의 이름은{sex}입니다.')\n",
        "\n",
        "intro_me('황정은',23)"
      ],
      "metadata": {
        "colab": {
          "base_uri": "https://localhost:8080/"
        },
        "id": "Ibipwdw3GvnK",
        "outputId": "2ff064ed-a62b-46ad-c7cd-e8a8ea54db2c"
      },
      "execution_count": null,
      "outputs": [
        {
          "output_type": "stream",
          "name": "stdout",
          "text": [
            "나의 이름은황정은입니다.\n",
            "나의 이름은23입니다.\n",
            "나의 이름은woman입니다.\n"
          ]
        }
      ]
    },
    {
      "cell_type": "code",
      "source": [
        "# 기본값을(defult)뒤에  hobby가 들어오게 되면 판단에 오류가 생긴다.\n",
        "#따라서 기본값은 준 파라메터(default)값은 맨 뒤로 보내야 한다 \n",
        "#기본 값이 있는 파라메터는 기본값이 없는 파라메터를 뒤에 둘 수 없다.\n",
        " \n",
        "def intro_me(name,age,sex='woman',hobby):\n",
        "  print(f'나의 이름은{name}입니다.')\n",
        "  print(f'나의 이름은{age}입니다.')\n",
        "  print(f'나의 이름은{sex}입니다.')\n",
        "\n",
        "intro_me('황정은',23)"
      ],
      "metadata": {
        "colab": {
          "base_uri": "https://localhost:8080/",
          "height": 136
        },
        "id": "0jBx90nlHKrf",
        "outputId": "45560f48-6775-4c47-c07a-05f8d16ec1c5"
      },
      "execution_count": null,
      "outputs": [
        {
          "output_type": "error",
          "ename": "SyntaxError",
          "evalue": "ignored",
          "traceback": [
            "\u001b[0;36m  File \u001b[0;32m\"<ipython-input-39-a7a1b5c2a3e3>\"\u001b[0;36m, line \u001b[0;32m2\u001b[0m\n\u001b[0;31m    def intro_me(name,age,sex='woman',hobby):\u001b[0m\n\u001b[0m                ^\u001b[0m\n\u001b[0;31mSyntaxError\u001b[0m\u001b[0;31m:\u001b[0m non-default argument follows default argument\n"
          ]
        }
      ]
    },
    {
      "cell_type": "markdown",
      "source": [
        "**기본값이 있는 파라메터는 맨 뒤로 보내야 한다 **"
      ],
      "metadata": {
        "id": "QddkdK37IWZs"
      }
    },
    {
      "cell_type": "markdown",
      "source": [
        "## 변수 스코프"
      ],
      "metadata": {
        "id": "MWlgTlsLMIhi"
      }
    },
    {
      "cell_type": "markdown",
      "source": [
        "### 전역변수/지역변수"
      ],
      "metadata": {
        "id": "Dn5Eq5WqXne7"
      }
    },
    {
      "cell_type": "markdown",
      "source": [
        "전역변수 :어디에서나 사용할 수 있다\n",
        "\n",
        "지역 변수 : 함수 범위 내에서만 사용할 수 있는 함수 함수내/ for문 또는 ':'(하나의 지역을 만든다는 의미) 가 붙는 함수 "
      ],
      "metadata": {
        "id": "IJ7GoXFpMRqK"
      }
    },
    {
      "cell_type": "code",
      "source": [
        "gVar = 1        #globel(전역)변수\n",
        "\n",
        "def vertest(lVar):    #local(지역)변수  -> lVar 변수에 gVar의 값만 받는다\n",
        "  lVar=lVar+1\n",
        "  print(f'lVar의 값은: {lVar}')\n",
        "\n",
        "vertest(gVar)\n",
        "\n",
        "print(f'gVar의 값은 :{gVar}')\n"
      ],
      "metadata": {
        "colab": {
          "base_uri": "https://localhost:8080/"
        },
        "id": "j6vao13HHfQb",
        "outputId": "cfd79670-e92b-4797-dd91-1fc01caf7656"
      },
      "execution_count": null,
      "outputs": [
        {
          "output_type": "stream",
          "name": "stdout",
          "text": [
            "lVar의 값은: 2\n",
            "gVar의 값은 :1\n"
          ]
        }
      ]
    },
    {
      "cell_type": "markdown",
      "source": [
        "전역변수의 값은 변화하지 않는다. \n",
        "전역 변수의 값은 변화가 없으나 지역 변수의 값은 증가한다. \n",
        "함수를 호출할때 글로벌 변수를 호출햇다고 쓰는게 아니라 로컬 변수를 사용한다. "
      ],
      "metadata": {
        "id": "CZegB3ejNN7N"
      }
    },
    {
      "cell_type": "code",
      "source": [
        "a = 1                       #전역변수\n",
        "\n",
        "def vartest(a):              #지역변수\n",
        "  a = a+1\n",
        "  return a\n",
        "\n",
        "a = vartest(a)          #로컬 변수 a의 값을 전역변수 a의 값에 넣는다.\n",
        "\n",
        "a                       #전역 변수 a의 값을 출력한다."
      ],
      "metadata": {
        "colab": {
          "base_uri": "https://localhost:8080/"
        },
        "id": "TsJMti7lM9D5",
        "outputId": "27e8a554-24e2-4060-9d7c-1b915122e373"
      },
      "execution_count": null,
      "outputs": [
        {
          "output_type": "execute_result",
          "data": {
            "text/plain": [
              "2"
            ]
          },
          "metadata": {},
          "execution_count": 48
        }
      ]
    },
    {
      "cell_type": "code",
      "source": [
        "gVar = 1                       #1. 전역변수 만든다\n",
        "\n",
        "def vartest(lVar):              #3. 지역변수 -> lVar에 gVar의 값을 넣는다.  \n",
        "  lVar = lVar+1\n",
        "  print(f'lVar의 값 :{lVar}')\n",
        "  return lVar                    #4.ㅣVar 값을 리턴하고 이값을 다시 vertest(gVar)에 넣어준다. \n",
        "\n",
        "gVar = vartest(gVar)          #2. 로컬 변수 gVar의 값을 선언된 vartest 함수와 같다고 정의.\n",
        "#vartest(gVar) \n",
        "\n",
        "\n",
        "print(f'gVar의 값: {gVar}')                       #5.바뀐 gVar의 값을 출력한다. "
      ],
      "metadata": {
        "colab": {
          "base_uri": "https://localhost:8080/"
        },
        "id": "LAvXx5ZtOC2r",
        "outputId": "64a6e5be-7ad7-4420-9fa9-1eeae350fcd1"
      },
      "execution_count": null,
      "outputs": [
        {
          "output_type": "stream",
          "name": "stdout",
          "text": [
            "lVar의 값 :2\n",
            "gVar의 값: 2\n"
          ]
        }
      ]
    },
    {
      "cell_type": "code",
      "source": [
        "gVar = 1                       #1. 전역변수 만든다\n",
        "\n",
        "#=====지역 변수 ======\n",
        "def vartest2():              \n",
        "  global gVar                 #전역 변수의 값을 받아들이는 것이다. \n",
        "  gVar =gVar+1\n",
        "#=====================\n",
        "vartest2()\n",
        "\n",
        "print(f'gVar의 값: {gVar}') "
      ],
      "metadata": {
        "colab": {
          "base_uri": "https://localhost:8080/"
        },
        "id": "LkAJvj_qPKcW",
        "outputId": "69337718-b83c-4d97-d6c1-f55040c91f25"
      },
      "execution_count": null,
      "outputs": [
        {
          "output_type": "stream",
          "name": "stdout",
          "text": [
            "gVar의 값: 2\n"
          ]
        }
      ]
    },
    {
      "cell_type": "code",
      "source": [
        "a = 1                                 #1. 전역변수 만든다\n",
        "\n",
        "#=====지역 변수 ======                지역 변수 내에서만 계산이 이루어진다. \n",
        "def vartest2(a):              \n",
        "  #global a                \n",
        "  a = a+1\n",
        "  print(f'지역변수 a= {a}')\n",
        "#=====================\n",
        "\n",
        "vartest2(a)                          #.1번 전역 변수의 값을 출력한다. \n",
        "\n",
        "print(f'전역 변수 a의 값: {a}') \n",
        "\n"
      ],
      "metadata": {
        "colab": {
          "base_uri": "https://localhost:8080/"
        },
        "id": "dwzY1lanRTE0",
        "outputId": "152c5dee-3321-49ea-e222-abfdfda0b05f"
      },
      "execution_count": null,
      "outputs": [
        {
          "output_type": "stream",
          "name": "stdout",
          "text": [
            "지역변수 a= 2\n",
            "전역 변수 a의 값: 1\n"
          ]
        }
      ]
    },
    {
      "cell_type": "code",
      "source": [
        "# 전역 변수를 사용하게 되면 쉽게 변경이 가능하게 \n",
        "# 원하는 값을 얻지 못할 수 있다. \n",
        "\n",
        "a = 1                       #1. 전역변수 만든다\n",
        "\n",
        "#=====지역 변수 ======       지역 변수 내에서만 계산이 이루어진다. \n",
        "def vartest2():              \n",
        "  global a                \n",
        "  a = a+1\n",
        "  print(f'vertest2호출_a2= {a}')\n",
        "#=====================\n",
        "\n",
        "#=====지역 변수2 ======       지역 변수 내에서만 계산이 이루어진다. \n",
        "def vartest3():              \n",
        "  global a                \n",
        "  a = a+1\n",
        "  print(f'vertest3 호출_a3= {a}')\n",
        "#=====================\n",
        "\n",
        "\n",
        "vartest2()                 #.1번 전역 변수의 값을 출력한다. \n",
        "vartest3()\n",
        "\n",
        "\n",
        "print(f'a의 결과값: {a}') "
      ],
      "metadata": {
        "colab": {
          "base_uri": "https://localhost:8080/"
        },
        "id": "LoG0Kx_UR1JR",
        "outputId": "912e33fd-7c07-4192-f94a-9212c60202b1"
      },
      "execution_count": null,
      "outputs": [
        {
          "output_type": "stream",
          "name": "stdout",
          "text": [
            "vertest2호출_a2= 2\n",
            "vertest3 호출_a3= 3\n",
            "a의 결과값: 3\n"
          ]
        }
      ]
    },
    {
      "cell_type": "markdown",
      "source": [
        "###람다 함수"
      ],
      "metadata": {
        "id": "Yu4r_MNJrC4Y"
      }
    },
    {
      "cell_type": "code",
      "source": [
        "add = lambda a,b :a+b \n",
        "\n",
        "#result = add(1,2)\n",
        "\n",
        "#result\n",
        "\n",
        "add(1,2)"
      ],
      "metadata": {
        "colab": {
          "base_uri": "https://localhost:8080/"
        },
        "id": "UqJB7U4PWwDw",
        "outputId": "af33c900-72ff-464c-df4e-6909b31311a9"
      },
      "execution_count": null,
      "outputs": [
        {
          "output_type": "execute_result",
          "data": {
            "text/plain": [
              "3"
            ]
          },
          "metadata": {},
          "execution_count": 217
        }
      ]
    },
    {
      "cell_type": "code",
      "source": [
        "def add(a,b):\n",
        "  return a+b\n",
        "\n",
        "  result =add(1,2)\n",
        "\n",
        "  result\n",
        "  "
      ],
      "metadata": {
        "id": "6bfZFNLtrZ6z"
      },
      "execution_count": null,
      "outputs": []
    },
    {
      "cell_type": "markdown",
      "source": [
        "#입출력"
      ],
      "metadata": {
        "id": "fa0xuqLjtNYJ"
      }
    },
    {
      "cell_type": "code",
      "source": [
        "\n",
        "# 안내문자 :prompt\n",
        "#input 함수가 처리하는 것은 '__'문자열이다.\n",
        "#숫자 형태로 처리하기 위해서는 int(input())으로 변환한다.\n",
        "\n",
        "num= input('숫자를 넣어주세요  : ')\n",
        "\n",
        "num= int(input('숫자를 넣어주세요  : '))\n",
        "\n",
        "num\n"
      ],
      "metadata": {
        "colab": {
          "base_uri": "https://localhost:8080/"
        },
        "id": "mQ0f4lkHrwii",
        "outputId": "77ca69c7-f59f-4c7e-a9fc-d8c007dd1edf"
      },
      "execution_count": null,
      "outputs": [
        {
          "name": "stdout",
          "output_type": "stream",
          "text": [
            "숫자를 넣어주세요  : 6\n",
            "숫자를 넣어주세요  : 6\n"
          ]
        },
        {
          "output_type": "execute_result",
          "data": {
            "text/plain": [
              "6"
            ]
          },
          "metadata": {},
          "execution_count": 79
        }
      ]
    },
    {
      "cell_type": "code",
      "source": [
        "a = {1.2,3}\n",
        "print(a)\n",
        "#print는 어떤 값이든 자동으로 맞춰준다. "
      ],
      "metadata": {
        "colab": {
          "base_uri": "https://localhost:8080/"
        },
        "id": "quAfQNkgsY6m",
        "outputId": "45519825-7e46-4f01-9d17-0656555cc62b"
      },
      "execution_count": null,
      "outputs": [
        {
          "output_type": "stream",
          "name": "stdout",
          "text": [
            "{1.2, 3}\n"
          ]
        }
      ]
    },
    {
      "cell_type": "code",
      "source": [
        "print('I''Love''you')\n",
        "#띄어쓰기 없이 하나의 문장으로 만들어버린다. "
      ],
      "metadata": {
        "colab": {
          "base_uri": "https://localhost:8080/"
        },
        "id": "zAK5F3Zos8xz",
        "outputId": "b4c2a045-b792-4483-c4de-899231486b57"
      },
      "execution_count": null,
      "outputs": [
        {
          "output_type": "stream",
          "name": "stdout",
          "text": [
            "ILoveyou\n"
          ]
        }
      ]
    },
    {
      "cell_type": "code",
      "source": [
        "print('I','Love','you')\n",
        "#print('문자열 1','문자열 2','문자열 3')\n",
        "#띄어쓰기 되어 하나의 문장으로 만들어버린다. "
      ],
      "metadata": {
        "colab": {
          "base_uri": "https://localhost:8080/"
        },
        "id": "XH3fTq0ptk90",
        "outputId": "53525d58-c080-440d-8e4a-dd927e6474b3"
      },
      "execution_count": null,
      "outputs": [
        {
          "output_type": "stream",
          "name": "stdout",
          "text": [
            "I Love you\n"
          ]
        }
      ]
    },
    {
      "cell_type": "code",
      "source": [
        "for i in range(10):\n",
        "  print(i)\n"
      ],
      "metadata": {
        "colab": {
          "base_uri": "https://localhost:8080/"
        },
        "id": "LZUphnKMuPug",
        "outputId": "fe70bced-3e89-4178-9111-5d945bf91596"
      },
      "execution_count": null,
      "outputs": [
        {
          "output_type": "stream",
          "name": "stdout",
          "text": [
            "0\n",
            "1\n",
            "2\n",
            "3\n",
            "4\n",
            "5\n",
            "6\n",
            "7\n",
            "8\n",
            "9\n"
          ]
        }
      ]
    },
    {
      "cell_type": "code",
      "source": [
        "for i in range(10):\n",
        "  print(i,end = ' ')\n",
        "  #가로로 출력된다. "
      ],
      "metadata": {
        "colab": {
          "base_uri": "https://localhost:8080/"
        },
        "id": "QqDHFrGdtV-E",
        "outputId": "f530dc93-bffb-4098-a58d-bfc54cdd0d2f"
      },
      "execution_count": null,
      "outputs": [
        {
          "output_type": "stream",
          "name": "stdout",
          "text": [
            "0 1 2 3 4 5 6 7 8 9 "
          ]
        }
      ]
    },
    {
      "cell_type": "markdown",
      "source": [
        "#파일"
      ],
      "metadata": {
        "id": "GbViUhMZunoh"
      }
    },
    {
      "cell_type": "markdown",
      "source": [
        "## 파일 생성, 쓰기\n",
        "\n",
        "* r: read\n",
        "* w :write\n",
        "* a: append"
      ],
      "metadata": {
        "id": "rznF7FZ50eQk"
      }
    },
    {
      "cell_type": "code",
      "source": [
        "###파일\n",
        "저장소(storage)에 저장소"
      ],
      "metadata": {
        "id": "Na_0D0hft--S"
      },
      "execution_count": null,
      "outputs": []
    },
    {
      "cell_type": "code",
      "source": [
        "open('filetest.txt','w') opern(#파일 이름, 모드값)\n"
      ],
      "metadata": {
        "id": "G32GP_VFu8XS"
      },
      "execution_count": null,
      "outputs": []
    },
    {
      "cell_type": "code",
      "source": [
        ""
      ],
      "metadata": {
        "id": "ax5SJTCAyWEj"
      },
      "execution_count": null,
      "outputs": []
    },
    {
      "cell_type": "code",
      "source": [
        "f=open('filetest.txt','w')  #open(파일 이름, 모드값)\n",
        "\n",
        "f.close() "
      ],
      "metadata": {
        "id": "UsxImF9mvrao"
      },
      "execution_count": null,
      "outputs": []
    },
    {
      "cell_type": "markdown",
      "source": [
        "_.open(파일 이름, 모드값)\n",
        "\n",
        "_.close()\n",
        "\n",
        "항상 페어로 사용해야 한다 "
      ],
      "metadata": {
        "id": "_Euh3pQmvluA"
      }
    },
    {
      "cell_type": "code",
      "source": [
        "f=open('filetest.txt','w')  #open(파일 이름, 모드값)\n",
        "\n",
        "for i in range(1,10):\n",
        "  data = f'{i}번째 줄 입니다.\\n'\n",
        "  f.write(data)        #텍스트 편집할 수 있는 함수 호출 _.write(원하는 데이터 변수명)\n",
        "\n",
        "\n",
        "f.close()"
      ],
      "metadata": {
        "id": "ak1u5GF0wIaU"
      },
      "execution_count": null,
      "outputs": []
    },
    {
      "cell_type": "code",
      "source": [
        ""
      ],
      "metadata": {
        "colab": {
          "base_uri": "https://localhost:8080/"
        },
        "id": "lFFcmeNHwnuV",
        "outputId": "e1db64a0-e080-4b42-9aba-b6a57f1365d9"
      },
      "execution_count": null,
      "outputs": [
        {
          "output_type": "stream",
          "name": "stdout",
          "text": [
            "1번째 줄 입니다.\n",
            "\n",
            "2번째 줄 입니다.\n",
            "\n",
            "3번째 줄 입니다.\n",
            "\n",
            "4번째 줄 입니다.\n",
            "\n",
            "5번째 줄 입니다.\n",
            "\n",
            "6번째 줄 입니다.\n",
            "\n",
            "7번째 줄 입니다.\n",
            "\n",
            "8번째 줄 입니다.\n",
            "\n",
            "9번째 줄 입니다.\n",
            "\n"
          ]
        }
      ]
    },
    {
      "cell_type": "markdown",
      "source": [
        "##읽기\n",
        "\n",
        "_.readline(_)"
      ],
      "metadata": {
        "id": "WAnLQvxv08P0"
      }
    },
    {
      "cell_type": "code",
      "source": [
        "f=open('filetest.txt','r')\n",
        "\n",
        "line = f.readline()   #readline = 첫번째 줄만 읽는다. \n",
        "print(line)\n",
        "\n",
        "f.close()"
      ],
      "metadata": {
        "colab": {
          "base_uri": "https://localhost:8080/"
        },
        "id": "fcImWKDlw73V",
        "outputId": "a769edea-310c-45b5-a831-878a20b03496"
      },
      "execution_count": null,
      "outputs": [
        {
          "output_type": "stream",
          "name": "stdout",
          "text": [
            "1번째 줄 입니다.\n",
            "\n"
          ]
        }
      ]
    },
    {
      "cell_type": "markdown",
      "source": [
        ""
      ],
      "metadata": {
        "id": "squKlvfd2Sij"
      }
    },
    {
      "cell_type": "code",
      "source": [
        "f=open('filetest.txt','r')\n",
        "\n",
        "lines = f.readlines()   #readline = 첫번째 줄만 읽는다. \n",
        "\n",
        "for line in lines:      #한출씩 출력\n",
        " print(line)\n",
        "\n",
        "\n",
        "f.close()"
      ],
      "metadata": {
        "id": "NI5OUQj91Q4g"
      },
      "execution_count": null,
      "outputs": []
    },
    {
      "cell_type": "code",
      "source": [
        "#while문을 사용하여 반복하기\n",
        "\n",
        "f=open('filetest.txt','r')\n",
        "\n",
        "r =0\n",
        "\n",
        "while r<10:               #  줄을 모를때, 계속 돌아간다.  \n",
        "  line =f.readlines()\n",
        "\n",
        "  for line in lines:\n",
        "    print (line)\n",
        "  \n",
        "    r += 1\n",
        "\n",
        "f.close()"
      ],
      "metadata": {
        "id": "jgnejILx5V7L"
      },
      "execution_count": null,
      "outputs": []
    },
    {
      "cell_type": "code",
      "source": [
        "#while문을 사용하여 반복하기\n",
        "\n",
        "f=open('filetest.txt','r')\n",
        "\n",
        "while True:               #  줄을 모를때, 계속 돌아간다.  \n",
        "  line =f.readlines()\n",
        "  for line in lines:\n",
        "    \n",
        "  if not line:\n",
        "    break\n",
        "\n",
        "  print (line)\n",
        "f.close()"
      ],
      "metadata": {
        "colab": {
          "base_uri": "https://localhost:8080/"
        },
        "id": "MAGypO-v5yyE",
        "outputId": "8d39b8ed-4996-4837-9b2a-4c4ad696d9df"
      },
      "execution_count": null,
      "outputs": [
        {
          "output_type": "stream",
          "name": "stdout",
          "text": [
            "['1번째 줄 입니다.\\n', '2번째 줄 입니다.\\n', '3번째 줄 입니다.\\n', '4번째 줄 입니다.\\n', '5번째 줄 입니다.\\n', '6번째 줄 입니다.\\n', '7번째 줄 입니다.\\n', '8번째 줄 입니다.\\n', '9번째 줄 입니다.\\n']\n"
          ]
        }
      ]
    },
    {
      "cell_type": "markdown",
      "source": [
        "_\n",
        ".close() : 다른 사람이 파일에 접근하는 것이 가능하게 한다. "
      ],
      "metadata": {
        "id": "SCQS8hCs6XzL"
      }
    },
    {
      "cell_type": "code",
      "source": [
        "#미리 range 를 정해 놓으면 자동으로 close 된다. \n",
        "with open('filetest.txt','a') as f:\n",
        "  for i in range(11,21):\n",
        "    data =f'{i}번째 줄 입니다 \\n'\n",
        "    f.write(data)\n",
        "\n"
      ],
      "metadata": {
        "id": "7KCZs5qO7G9v"
      },
      "execution_count": null,
      "outputs": []
    },
    {
      "cell_type": "code",
      "source": [
        ""
      ],
      "metadata": {
        "id": "MaKEgmRx7qKB"
      },
      "execution_count": null,
      "outputs": []
    },
    {
      "cell_type": "markdown",
      "source": [
        "###퀴즈"
      ],
      "metadata": {
        "id": "RBKwMbHo7zyH"
      }
    },
    {
      "cell_type": "markdown",
      "source": [
        "####주식 예제 1"
      ],
      "metadata": {
        "id": "RuSaOihyT9Lf"
      }
    },
    {
      "cell_type": "code",
      "source": [
        "# 매수 종목.txt\n",
        "f=open('매수 종목.txt','w')  #파일 만들기 open(파일 이름, 모드값)\n",
        "\n",
        "data = ('900260\\n252670\\n217240')\n",
        "\n",
        "f.write(data)        #텍스트 편집할 수 있는 함수 호출 _.write(원하는 데이터 변수명)\n",
        "\n",
        "f.close()"
      ],
      "metadata": {
        "id": "TDaPzWwE71yU"
      },
      "execution_count": null,
      "outputs": []
    },
    {
      "cell_type": "code",
      "source": [
        "with open('220113 매수 종목.txt','w')as s:\n",
        "  data = ('900260\\n252670\\n217240')\n",
        "\n",
        "  s.write(data)\n",
        "\n",
        "  s.close()"
      ],
      "metadata": {
        "id": "eDbI2Ogf9FAy"
      },
      "execution_count": null,
      "outputs": []
    },
    {
      "cell_type": "markdown",
      "source": [
        "####주식 예제 2"
      ],
      "metadata": {
        "id": "uHSvaNcMUCEM"
      }
    },
    {
      "cell_type": "code",
      "source": [
        "\n",
        "stocks = {'로스웰': 900260,\n",
        "          'KODEX 200선물인버스2X':252670,'TS 트릴리온': 217240}\n",
        "\n",
        "with open('매수 종목3.txt','w')as s:\n",
        " \n",
        "  for stock in stocks_values:\n",
        "  data = f'{stock}'\n",
        "  s.write(data)\n",
        "\n",
        "  s.close()\n",
        "\n"
      ],
      "metadata": {
        "colab": {
          "base_uri": "https://localhost:8080/",
          "height": 136
        },
        "id": "z4P9ERjc95E-",
        "outputId": "a5a5dbce-bc0e-4c2c-ae17-ea0fbdf6e6a9"
      },
      "execution_count": null,
      "outputs": [
        {
          "output_type": "error",
          "ename": "IndentationError",
          "evalue": "ignored",
          "traceback": [
            "\u001b[0;36m  File \u001b[0;32m\"<ipython-input-172-84e5ab71d8f3>\"\u001b[0;36m, line \u001b[0;32m8\u001b[0m\n\u001b[0;31m    data = f'{stock}'\u001b[0m\n\u001b[0m       ^\u001b[0m\n\u001b[0;31mIndentationError\u001b[0m\u001b[0;31m:\u001b[0m expected an indented block\n"
          ]
        }
      ]
    },
    {
      "cell_type": "code",
      "source": [
        "stocks = {'로스웰': 900260,'KODEX200선물인버스2X':252670,'TS 트릴리온': 217240}\n",
        "\n",
        "with open('매수 종목 1.txt','w') as s:\n",
        "  for i,j in stocks.items():\n",
        "    data = f'{i}:{j} \\n'\n",
        "    s.write(data)"
      ],
      "metadata": {
        "id": "X16m6_rhCjpJ"
      },
      "execution_count": null,
      "outputs": []
    },
    {
      "cell_type": "markdown",
      "source": [
        "####주식 예제 3 리스트,딕셔너리로 만들기\n",
        "-강사 예제"
      ],
      "metadata": {
        "id": "pH7S_eeFUEKc"
      }
    },
    {
      "cell_type": "code",
      "source": [
        "#매수 종목.txt를 읽고 코드를 리스트로 만들 보기\n",
        "\n",
        "with open('매수 종목.txt','r')as s:   #'파일을 열로 라인즈라는 파일에 넣는다.\n",
        " \n",
        "  lines = s.readlines()\n",
        "\n",
        "  codes = [] #아무것도 없는 리스트로 만든다. \n",
        "\n",
        "  for line in lines:\n",
        "\n",
        "    codes.append(line)\n",
        "\n",
        "  print(codes)"
      ],
      "metadata": {
        "colab": {
          "base_uri": "https://localhost:8080/"
        },
        "id": "Lgql9b6nEZ35",
        "outputId": "6f7d0160-bb71-4eac-ef81-75c3a6ee2677"
      },
      "execution_count": null,
      "outputs": [
        {
          "output_type": "stream",
          "name": "stdout",
          "text": [
            "['900260\\n', '252670\\n', '217240']\n"
          ]
        }
      ]
    },
    {
      "cell_type": "code",
      "source": [
        "#매수종목1을 읽고 종목명과 코드를 딕셔너리로 만들어보기\n",
        "\n",
        "with open('매수 종목 1.txt','r') as d:\n",
        "  lines = d.readlines()\n",
        "  print (f'lines ={lines}')\n",
        "\n",
        "  diction ={}                #[] = diction ,빈 딕셔너리 파일을 만든다\n",
        "\n",
        "  for line in lines:\n",
        "    print(line)\n",
        "    k,v = line.strip().split()        # 오류가 생기면 파일 내 띄어쓰기가 문제\n",
        "    data[k] = v           # 키 밸류가 추가된 딕셔너리 파일을 만든다.\n",
        "\n",
        "  print(diction)\n"
      ],
      "metadata": {
        "colab": {
          "base_uri": "https://localhost:8080/",
          "height": 299
        },
        "id": "-eqnQrHhFvgB",
        "outputId": "a8626d39-5786-43ee-f726-f53b6ccd9655"
      },
      "execution_count": null,
      "outputs": [
        {
          "output_type": "stream",
          "name": "stdout",
          "text": [
            "lines =['로스웰:900260 \\n', 'KODEX200선물인버스2X:252670 \\n', 'TS 트릴리온:217240 \\n']\n",
            "로스웰:900260 \n",
            "\n"
          ]
        },
        {
          "output_type": "error",
          "ename": "ValueError",
          "evalue": "ignored",
          "traceback": [
            "\u001b[0;31m---------------------------------------------------------------------------\u001b[0m",
            "\u001b[0;31mValueError\u001b[0m                                Traceback (most recent call last)",
            "\u001b[0;32m<ipython-input-212-0147b4b95d52>\u001b[0m in \u001b[0;36m<module>\u001b[0;34m()\u001b[0m\n\u001b[1;32m      9\u001b[0m   \u001b[0;32mfor\u001b[0m \u001b[0mline\u001b[0m \u001b[0;32min\u001b[0m \u001b[0mlines\u001b[0m\u001b[0;34m:\u001b[0m\u001b[0;34m\u001b[0m\u001b[0;34m\u001b[0m\u001b[0m\n\u001b[1;32m     10\u001b[0m     \u001b[0mprint\u001b[0m\u001b[0;34m(\u001b[0m\u001b[0mline\u001b[0m\u001b[0;34m)\u001b[0m\u001b[0;34m\u001b[0m\u001b[0;34m\u001b[0m\u001b[0m\n\u001b[0;32m---> 11\u001b[0;31m     \u001b[0mk\u001b[0m\u001b[0;34m,\u001b[0m\u001b[0mv\u001b[0m \u001b[0;34m=\u001b[0m \u001b[0mline\u001b[0m\u001b[0;34m.\u001b[0m\u001b[0mstrip\u001b[0m\u001b[0;34m(\u001b[0m\u001b[0;34m)\u001b[0m\u001b[0;34m.\u001b[0m\u001b[0msplit\u001b[0m\u001b[0;34m(\u001b[0m\u001b[0;34m)\u001b[0m\u001b[0;34m\u001b[0m\u001b[0;34m\u001b[0m\u001b[0m\n\u001b[0m\u001b[1;32m     12\u001b[0m     \u001b[0mdata\u001b[0m\u001b[0;34m[\u001b[0m\u001b[0mk\u001b[0m\u001b[0;34m]\u001b[0m \u001b[0;34m=\u001b[0m \u001b[0mv\u001b[0m           \u001b[0;31m# 키 밸류가 추가된 딕셔너리 파일을 만든다.\u001b[0m\u001b[0;34m\u001b[0m\u001b[0;34m\u001b[0m\u001b[0m\n\u001b[1;32m     13\u001b[0m \u001b[0;34m\u001b[0m\u001b[0m\n",
            "\u001b[0;31mValueError\u001b[0m: not enough values to unpack (expected 2, got 1)"
          ]
        }
      ]
    },
    {
      "cell_type": "code",
      "source": [
        "  type(diction)"
      ],
      "metadata": {
        "colab": {
          "base_uri": "https://localhost:8080/"
        },
        "id": "dnvDnjU1JqZg",
        "outputId": "729a9b5a-5170-4c6f-a903-fb6311c9c9d0"
      },
      "execution_count": null,
      "outputs": [
        {
          "output_type": "execute_result",
          "data": {
            "text/plain": [
              "list"
            ]
          },
          "metadata": {},
          "execution_count": 167
        }
      ]
    },
    {
      "cell_type": "markdown",
      "source": [
        "####주식 예제 3_2 리스트,딕셔너리로 만들기"
      ],
      "metadata": {
        "id": "aKpruRl4UKBu"
      }
    },
    {
      "cell_type": "code",
      "source": [
        "\n",
        "#매수 종목.txt를 읽고 코드를 리스트로 만들 보기\n",
        "\n",
        "with open('매수 종목 1.txt','r')as s:   \n",
        "  lines = s.readlines() \n",
        "  codes = []\n",
        "\n",
        "  for line in lines: \n",
        "   print(line)\n",
        "\n",
        "#print(codes)\n",
        "\n"
      ],
      "metadata": {
        "colab": {
          "base_uri": "https://localhost:8080/"
        },
        "id": "XDivITXCJ_BW",
        "outputId": "3ce2ac99-65d5-4f43-e192-b7fb15b35571"
      },
      "execution_count": null,
      "outputs": [
        {
          "output_type": "stream",
          "name": "stdout",
          "text": [
            "로스웰:900260 \n",
            "\n",
            "KODEX 200선물인버스2X:252670 \n",
            "\n",
            "TS 트릴리온:217240 \n",
            "\n"
          ]
        }
      ]
    },
    {
      "cell_type": "code",
      "source": [
        "type(codes)"
      ],
      "metadata": {
        "colab": {
          "base_uri": "https://localhost:8080/"
        },
        "id": "TeCRqu62Rhap",
        "outputId": "0c18fc3e-1b09-4b85-844b-a93721776e3f"
      },
      "execution_count": null,
      "outputs": [
        {
          "output_type": "execute_result",
          "data": {
            "text/plain": [
              "list"
            ]
          },
          "metadata": {},
          "execution_count": 191
        }
      ]
    },
    {
      "cell_type": "code",
      "source": [
        "#매수 종목.txt를 읽고 코드를 딕셔너리로 만들 보기\n",
        "\n",
        "with open('매수 종목 1.txt','r')as s:   \n",
        "  lines = s.readlines() \n",
        "  codes = {}\n",
        "\n",
        "  for line in lines: \n",
        "   print(line)\n"
      ],
      "metadata": {
        "colab": {
          "base_uri": "https://localhost:8080/"
        },
        "id": "zyahSxKmTE-N",
        "outputId": "8c7732c6-566e-47dd-84cf-685173799dce"
      },
      "execution_count": null,
      "outputs": [
        {
          "output_type": "stream",
          "name": "stdout",
          "text": [
            "로스웰:900260 \n",
            "\n",
            "KODEX 200선물인버스2X:252670 \n",
            "\n",
            "TS 트릴리온:217240 \n",
            "\n"
          ]
        }
      ]
    },
    {
      "cell_type": "code",
      "source": [
        "type(codes)"
      ],
      "metadata": {
        "colab": {
          "base_uri": "https://localhost:8080/"
        },
        "id": "GmebeKYhUQVd",
        "outputId": "e7e8dffe-8ad7-4fa5-8395-17375882fd4e"
      },
      "execution_count": null,
      "outputs": [
        {
          "output_type": "execute_result",
          "data": {
            "text/plain": [
              "dict"
            ]
          },
          "metadata": {},
          "execution_count": 207
        }
      ]
    },
    {
      "cell_type": "code",
      "source": [
        ""
      ],
      "metadata": {
        "id": "LK2DYY0uUTTi"
      },
      "execution_count": null,
      "outputs": []
    }
  ]
}